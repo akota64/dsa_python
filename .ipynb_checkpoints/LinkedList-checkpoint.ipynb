{
 "cells": [
  {
   "cell_type": "markdown",
   "metadata": {},
   "source": [
    "## Implementation"
   ]
  },
  {
   "cell_type": "markdown",
   "metadata": {},
   "source": [
    "Here, we implement a linked list. This is first done by implementing a Node, which can hold a value, its' previous Node in the list, and its' next Node in the list. A LinkedList is a uni-directional list. A DoublyLinkedList is linked both \"forwards\" and \"backwards\"."
   ]
  },
  {
   "cell_type": "code",
   "execution_count": 7,
   "metadata": {},
   "outputs": [],
   "source": [
    "class Node:\n",
    "    def __init__(self, val, prev, nxt):\n",
    "        self._val = val\n",
    "        self._prev = prev\n",
    "        self._next = nxt\n",
    "    \n",
    "    def get_val(self):\n",
    "        return self._val\n",
    "    \n",
    "    def set_val(self, value):\n",
    "        self._val = value\n",
    "    \n",
    "    def get_prev(self):\n",
    "        return self._prev\n",
    "        \n",
    "    def set_next(self, prev_node):\n",
    "        self._prev = prev_node\n",
    "    \n",
    "    def get_next(self):\n",
    "        return self._next\n",
    "        \n",
    "    def set_next(self, next_node):\n",
    "        self._next = next_node\n"
   ]
  },
  {
   "cell_type": "code",
   "execution_count": 9,
   "metadata": {},
   "outputs": [],
   "source": [
    "class LinkedList:\n",
    "    def __init__(self, head):\n",
    "        self._head = head\n",
    "    \n",
    "    def get_head(self):\n",
    "        return self._head\n",
    "    \n",
    "    def set_head(self, head_node):\n",
    "        self._head = head_node\n",
    "    \n",
    "    def prepend(self, x):\n",
    "        node = Node(val=x, nxt=self._head)\n",
    "        self._head = node\n",
    "        \n",
    "    def append(self, x):\n",
    "        node = Node(val=x)\n",
    "        if(self._head==None):\n",
    "            return None\n",
    "        curr = self._head\n",
    "        while curr.get_next()!=None:\n",
    "            curr = curr.get_next()\n",
    "        curr.set_next(node)\n",
    "    \n",
    "    def get_val_at(self, n):\n",
    "        if(self._head==None):\n",
    "            return None\n",
    "        curr = self._head\n",
    "        for i in range(n):\n",
    "            if(curr.get_next()==None):\n",
    "                return \"Out of bounds exception\"\n",
    "            curr=curr.get_next()\n",
    "        \n",
    "        return curr.get_val()\n",
    "    \n",
    "    def delete(self, x):\n",
    "        if(self._head.get_val()==x):\n",
    "            self._head=self._head.get_next()\n",
    "            return\n",
    "        curr=self._head\n",
    "        while(curr.get_next()!=None):\n",
    "            if(curr.get_next().get_val()==x):\n",
    "                curr.set_next(curr.get_next().get_next())\n",
    "                return\n",
    "            curr=curr.get_next()\n",
    "            "
   ]
  },
  {
   "cell_type": "code",
   "execution_count": null,
   "metadata": {},
   "outputs": [],
   "source": []
  }
 ],
 "metadata": {
  "kernelspec": {
   "display_name": "Python 3 (ipykernel)",
   "language": "python",
   "name": "python3"
  },
  "language_info": {
   "codemirror_mode": {
    "name": "ipython",
    "version": 3
   },
   "file_extension": ".py",
   "mimetype": "text/x-python",
   "name": "python",
   "nbconvert_exporter": "python",
   "pygments_lexer": "ipython3",
   "version": "3.9.12"
  }
 },
 "nbformat": 4,
 "nbformat_minor": 2
}
