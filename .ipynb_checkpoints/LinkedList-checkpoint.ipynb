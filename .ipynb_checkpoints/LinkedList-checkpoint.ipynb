{
 "cells": [
  {
   "cell_type": "markdown",
   "metadata": {},
   "source": [
    "## Implementation"
   ]
  },
  {
   "cell_type": "markdown",
   "metadata": {},
   "source": [
    "Here, we implement a linked list. This is first done by implementing a Node, which can hold a value, its' previous Node in the list, and its' next Node in the list. A LinkedList is a uni-directional list. A DoublyLinkedList is linked both \"forwards\" and \"backwards\"."
   ]
  },
  {
   "cell_type": "code",
   "execution_count": 201,
   "metadata": {},
   "outputs": [],
   "source": [
    "class Node:\n",
    "    def __init__(self, val=None, prev=None, nxt=None):\n",
    "        self._val = val\n",
    "        self._prev = prev\n",
    "        self._next = nxt\n",
    "    \n",
    "    def get_val(self):\n",
    "        return self._val\n",
    "    \n",
    "    def set_val(self, value):\n",
    "        self._val = value\n",
    "    \n",
    "    def get_prev(self):\n",
    "        return self._prev\n",
    "        \n",
    "    def set_next(self, prev_node):\n",
    "        self._prev = prev_node\n",
    "    \n",
    "    def get_next(self):\n",
    "        return self._next\n",
    "        \n",
    "    def set_next(self, next_node):\n",
    "        self._next = next_node"
   ]
  },
  {
   "cell_type": "code",
   "execution_count": 202,
   "metadata": {},
   "outputs": [],
   "source": [
    "class LinkedList:\n",
    "    def __init__(self, head=None):\n",
    "        self._head = head\n",
    "    \n",
    "    def get_head(self):\n",
    "        return self._head\n",
    "    \n",
    "    def set_head(self, head_node):\n",
    "        self._head = head_node\n",
    "    \n",
    "    def prepend(self, x):\n",
    "        node = Node(val=x, nxt=self._head)\n",
    "        self._head = node\n",
    "        \n",
    "    def append(self, x):\n",
    "        node = Node(val=x)\n",
    "        if(self._head==None):\n",
    "            return None\n",
    "        curr = self._head\n",
    "        while curr.get_next()!=None:\n",
    "            curr = curr.get_next()\n",
    "        curr.set_next(node)\n",
    "    \n",
    "    def get_val_at(self, n):\n",
    "        if(self._head==None):\n",
    "            return None\n",
    "        curr = self._head\n",
    "        for i in range(n):\n",
    "            if(curr.get_next()==None):\n",
    "                return \"Out of bounds exception\"\n",
    "            curr=curr.get_next()\n",
    "        \n",
    "        return curr.get_val()\n",
    "    \n",
    "    def delete(self, x):\n",
    "        if(self._head.get_val()==x):\n",
    "            self._head=self._head.get_next()\n",
    "            return\n",
    "        curr=self._head\n",
    "        while(curr.get_next()!=None):\n",
    "            if(curr.get_next().get_val()==x):\n",
    "                curr.set_next(curr.get_next().get_next())\n",
    "                return\n",
    "            curr=curr.get_next()\n",
    "            \n",
    "    def print_list(self):\n",
    "        curr=self._head\n",
    "        while(curr.get_next()!=None):\n",
    "            print(str(curr.get_val()) + \" ->\", end=\" \")\n",
    "            curr=curr.get_next()\n",
    "        print(str(curr.get_val()))"
   ]
  },
  {
   "cell_type": "code",
   "execution_count": 203,
   "metadata": {},
   "outputs": [],
   "source": [
    "a = Node(val=5)\n",
    "b = Node(val=6)\n",
    "c = Node(val=\"hello\")"
   ]
  },
  {
   "cell_type": "code",
   "execution_count": 204,
   "metadata": {},
   "outputs": [],
   "source": [
    "b.set_next(c)"
   ]
  },
  {
   "cell_type": "code",
   "execution_count": 205,
   "metadata": {},
   "outputs": [],
   "source": [
    "ll=LinkedList(head=a)"
   ]
  },
  {
   "cell_type": "code",
   "execution_count": 206,
   "metadata": {},
   "outputs": [
    {
     "name": "stdout",
     "output_type": "stream",
     "text": [
      "5\n"
     ]
    }
   ],
   "source": [
    "ll.print_list()"
   ]
  },
  {
   "cell_type": "code",
   "execution_count": 207,
   "metadata": {},
   "outputs": [],
   "source": [
    "a.set_next(b)"
   ]
  },
  {
   "cell_type": "code",
   "execution_count": 208,
   "metadata": {},
   "outputs": [
    {
     "name": "stdout",
     "output_type": "stream",
     "text": [
      "5 -> 6 -> hello\n"
     ]
    }
   ],
   "source": [
    "ll.print_list()"
   ]
  },
  {
   "cell_type": "code",
   "execution_count": 209,
   "metadata": {},
   "outputs": [],
   "source": [
    "c.set_next(Node(val='m'))"
   ]
  },
  {
   "cell_type": "code",
   "execution_count": 210,
   "metadata": {},
   "outputs": [
    {
     "name": "stdout",
     "output_type": "stream",
     "text": [
      "5 -> 6 -> hello -> m\n"
     ]
    }
   ],
   "source": [
    "ll.print_list()"
   ]
  },
  {
   "cell_type": "code",
   "execution_count": 211,
   "metadata": {},
   "outputs": [],
   "source": [
    "def print_reverse(ll):\n",
    "    if(ll.get_head()==None):\n",
    "        print(\"None\")\n",
    "        return\n",
    "    if(ll.get_head().get_next()!=None):\n",
    "        print_reverse(LinkedList(ll.get_head().get_next()))\n",
    "    print(str(ll.get_head().get_val()), end=\" \")\n",
    "    "
   ]
  },
  {
   "cell_type": "code",
   "execution_count": 212,
   "metadata": {},
   "outputs": [
    {
     "name": "stdout",
     "output_type": "stream",
     "text": [
      "m hello 6 5 "
     ]
    }
   ],
   "source": [
    "print_reverse(ll)"
   ]
  },
  {
   "cell_type": "code",
   "execution_count": 213,
   "metadata": {},
   "outputs": [
    {
     "name": "stdout",
     "output_type": "stream",
     "text": [
      "5 -> 6 -> hello -> m\n"
     ]
    }
   ],
   "source": [
    "ll.print_list()"
   ]
  },
  {
   "cell_type": "code",
   "execution_count": 214,
   "metadata": {},
   "outputs": [],
   "source": [
    "def reverse(ll):\n",
    "    if(ll.get_head()==None):\n",
    "        return ll\n",
    "    if(ll.get_head().get_next()==None):\n",
    "        return ll\n",
    "    \n",
    "    if(ll.get_head().get_next().get_next()!=None):\n",
    "        head = reverse(LinkedList(head=ll.get_head().get_next()))\n",
    "    else:\n",
    "        head = ll.get_head().get_next()\n",
    "    \n",
    "    ll.get_head().get_next().set_next(ll.get_head())\n",
    "    ll.get_head().set_next(None)\n",
    "    ll.set_head(head)\n",
    "    \n",
    "    \n",
    "    return head\n",
    "        "
   ]
  },
  {
   "cell_type": "code",
   "execution_count": 215,
   "metadata": {},
   "outputs": [
    {
     "data": {
      "text/plain": [
       "<__main__.Node at 0x7fa3a96830d0>"
      ]
     },
     "execution_count": 215,
     "metadata": {},
     "output_type": "execute_result"
    }
   ],
   "source": [
    "reverse(ll)"
   ]
  },
  {
   "cell_type": "code",
   "execution_count": 216,
   "metadata": {},
   "outputs": [
    {
     "name": "stdout",
     "output_type": "stream",
     "text": [
      "m -> hello -> 6 -> 5\n"
     ]
    }
   ],
   "source": [
    "ll.print_list()"
   ]
  },
  {
   "cell_type": "code",
   "execution_count": null,
   "metadata": {},
   "outputs": [],
   "source": []
  }
 ],
 "metadata": {
  "kernelspec": {
   "display_name": "Python 3 (ipykernel)",
   "language": "python",
   "name": "python3"
  },
  "language_info": {
   "codemirror_mode": {
    "name": "ipython",
    "version": 3
   },
   "file_extension": ".py",
   "mimetype": "text/x-python",
   "name": "python",
   "nbconvert_exporter": "python",
   "pygments_lexer": "ipython3",
   "version": "3.9.12"
  }
 },
 "nbformat": 4,
 "nbformat_minor": 2
}
